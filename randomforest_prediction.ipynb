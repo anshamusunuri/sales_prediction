{
 "cells": [
  {
   "cell_type": "markdown",
   "metadata": {},
   "source": [
    "**Random Forest Regressor**\n"
   ]
  },
  {
   "cell_type": "code",
   "execution_count": null,
   "metadata": {},
   "outputs": [],
   "source": [
    "from sklearn.ensemble import RandomForestRegressor\n",
    "from sklearn.pipeline import Pipeline\n",
    "from sklearn.compose import ColumnTransformer\n",
    "from sklearn.impute import SimpleImputer\n",
    "from sklearn.preprocessing import StandardScaler, OneHotEncoder\n",
    "from sklearn.metrics import mean_squared_error\n",
    "from sklearn.model_selection import train_test_split\n",
    "import pandas as pd\n",
    "import numpy as np\n",
    "import warnings\n",
    "warnings.filterwarnings(\"ignore\")\n"
   ]
  },
  {
   "cell_type": "code",
   "execution_count": null,
   "metadata": {},
   "outputs": [],
   "source": [
    "#loading the dataset\n",
    "#train dataset\n",
    "train = pd.read_csv('notebook/data/rossmann-store-sales/train.csv', parse_dates=['Date'], index_col='Date')\n",
    "store = pd.read_csv('notebook/data/rossmann-store-sales/store.csv')\n",
    "#test data\n",
    "test = pd.read_csv('notebook/data/rossmann-store-sales/test.csv')\n",
    "\n",
    "train=train.reset_index()"
   ]
  },
  {
   "cell_type": "code",
   "execution_count": 1,
   "metadata": {},
   "outputs": [
    {
     "name": "stderr",
     "output_type": "stream",
     "text": [
      "/var/folders/b3/5wfl4st10qn70t4032t4vr8m0000gn/T/ipykernel_6187/2137127984.py:13: DtypeWarning: Columns (7) have mixed types. Specify dtype option on import or set low_memory=False.\n",
      "  train = pd.read_csv('notebook/data/rossmann-store-sales/train.csv', parse_dates=['Date'], index_col='Date')\n",
      "/var/folders/b3/5wfl4st10qn70t4032t4vr8m0000gn/T/ipykernel_6187/2137127984.py:33: SettingWithCopyWarning: \n",
      "A value is trying to be set on a copy of a slice from a DataFrame.\n",
      "Try using .loc[row_indexer,col_indexer] = value instead\n",
      "\n",
      "See the caveats in the documentation: https://pandas.pydata.org/pandas-docs/stable/user_guide/indexing.html#returning-a-view-versus-a-copy\n",
      "  X[categorical_cols] = X[categorical_cols].astype(str)\n"
     ]
    },
    {
     "name": "stdout",
     "output_type": "stream",
     "text": [
      "Train RMSE: 563.9641329585866\n",
      "Validation RMSE: 1515.3809767595758\n",
      "          feature  importance\n",
      "3            Open    0.459827\n",
      "0           Store    0.373411\n",
      "2           Promo    0.073461\n",
      "1       DayOfWeek    0.032826\n",
      "5             day    0.025534\n",
      "6           Month    0.024088\n",
      "7            Year    0.005985\n",
      "4   SchoolHoliday    0.004212\n",
      "8  StateHoliday_0    0.000353\n",
      "9  StateHoliday_a    0.000179\n"
     ]
    },
    {
     "name": "stderr",
     "output_type": "stream",
     "text": [
      "/Users/aneeshamusunuri/Documents/Aneesha/taxi_fare_prediction/venv/lib/python3.11/site-packages/sklearn/metrics/_regression.py:492: FutureWarning: 'squared' is deprecated in version 1.4 and will be removed in 1.6. To calculate the root mean squared error, use the function'root_mean_squared_error'.\n",
      "  warnings.warn(\n",
      "/Users/aneeshamusunuri/Documents/Aneesha/taxi_fare_prediction/venv/lib/python3.11/site-packages/sklearn/metrics/_regression.py:492: FutureWarning: 'squared' is deprecated in version 1.4 and will be removed in 1.6. To calculate the root mean squared error, use the function'root_mean_squared_error'.\n",
      "  warnings.warn(\n"
     ]
    }
   ],
   "source": [
    "\n",
    "\n",
    "#converting the datetime column to day month and year separate columns\n",
    "train['Year'] = train['Date'].dt.year\n",
    "train['Month'] = train['Date'].dt.month\n",
    "train['day'] = train['Date'].dt.day\n",
    "train['day_of_week'] = train['Date'].dt.dayofweek\n",
    "input_cols = ['Store', 'DayOfWeek', 'Promo', 'StateHoliday','Open','SchoolHoliday', 'day', 'Month', 'Year']\n",
    "target_col = 'Sales'\n",
    "# Define input and target columns\n",
    "X = train[input_cols]\n",
    "y = train[target_col]\n",
    "\n",
    "# Convert all categorical columns to strings (to handle any categorical data)\n",
    "categorical_cols = X.select_dtypes(include=['object']).columns\n",
    "X[categorical_cols] = X[categorical_cols].astype(str)\n",
    "\n",
    "# Define numerical and categorical columns\n",
    "numerical_cols = X.select_dtypes(include=['int', 'float']).columns\n",
    "categorical_cols = X.select_dtypes(include=['object']).columns\n",
    "\n",
    "# Preprocessor using ColumnTransformer with SimpleImputer, StandardScaler, and OneHotEncoder\n",
    "preprocessor = ColumnTransformer(\n",
    "    transformers=[\n",
    "        ('num', Pipeline(steps=[\n",
    "            ('imputer', SimpleImputer(strategy='mean')),  # Impute missing numerical values with the mean\n",
    "            ('scaler', StandardScaler())                 # Standardize numerical features\n",
    "        ]), numerical_cols),\n",
    "        ('cat', Pipeline(steps=[\n",
    "            ('imputer', SimpleImputer(strategy='most_frequent')),  # Impute missing categorical values with the most frequent value\n",
    "            ('onehot', OneHotEncoder(handle_unknown='ignore'))    # Encode categorical features with OneHotEncoder\n",
    "        ]), categorical_cols)\n",
    "    ])\n",
    "\n",
    "# Define the model (RandomForestRegressor)\n",
    "rf = RandomForestRegressor(random_state=42, n_jobs=-1)\n",
    "\n",
    "# Define the pipeline with preprocessor and the model\n",
    "pipeline = Pipeline(steps=[\n",
    "    ('preprocessor', preprocessor),\n",
    "    ('model', rf)\n",
    "])\n",
    "\n",
    "# Split the data into training and validation sets\n",
    "X_train, X_test, y_train, y_test = train_test_split(X, y, test_size=0.2, random_state=42)\n",
    "\n",
    "# Function to train the model and evaluate performance\n",
    "def try_model(model):\n",
    "    # Fit the model using the pipeline\n",
    "    pipeline.fit(X_train, y_train)\n",
    "\n",
    "    # Generate predictions\n",
    "    train_preds = pipeline.predict(X_train)\n",
    "    val_preds = pipeline.predict(X_test)\n",
    "\n",
    "    # Compute RMSE for train and validation sets\n",
    "    train_rmse = mean_squared_error(y_train, train_preds, squared=False)\n",
    "    val_rmse = mean_squared_error(y_test, val_preds, squared=False)\n",
    "    \n",
    "    print(f\"Train RMSE: {train_rmse}\")\n",
    "    print(f\"Validation RMSE: {val_rmse}\")\n",
    "    \n",
    "    return train_rmse, val_rmse\n",
    "\n",
    "# Train and evaluate the model\n",
    "train_rmse, val_rmse = try_model(rf)\n",
    "\n",
    "# Feature importance\n",
    "importance_df = pd.DataFrame({\n",
    "    'feature': numerical_cols.tolist() + list(pipeline.named_steps['preprocessor'].transformers_[1][1]['onehot'].get_feature_names_out(categorical_cols)),\n",
    "    'importance': rf.feature_importances_\n",
    "}).sort_values('importance', ascending=False)\n",
    "\n",
    "print(importance_df.head(10))\n",
    "\n",
    "# Define the predict_input function to handle single input prediction\n",
    "def predict_input(model, sample_input):\n",
    "    if sample_input['Open'] == 0:\n",
    "        return 0.0  # Return 0 prediction if the store is closed\n",
    "\n",
    "    input_df = pd.DataFrame([sample_input])\n",
    "    \n",
    "    # Extract date components\n",
    "    input_df['Date'] = pd.to_datetime(input_df['Date'])\n",
    "    input_df['day'] = input_df['Date'].dt.day\n",
    "    input_df['Month'] = input_df['Date'].dt.month\n",
    "    input_df['Year'] = input_df['Date'].dt.year\n",
    "\n",
    "    # Apply preprocessing using the pipeline before prediction\n",
    "    pred = pipeline.predict(input_df)[0]\n",
    "    return pred\n"
   ]
  },
  {
   "cell_type": "code",
   "execution_count": null,
   "metadata": {},
   "outputs": [],
   "source": []
  }
 ],
 "metadata": {
  "kernelspec": {
   "display_name": "Python 3",
   "language": "python",
   "name": "python3"
  },
  "language_info": {
   "codemirror_mode": {
    "name": "ipython",
    "version": 3
   },
   "file_extension": ".py",
   "mimetype": "text/x-python",
   "name": "python",
   "nbconvert_exporter": "python",
   "pygments_lexer": "ipython3",
   "version": "3.11.8"
  }
 },
 "nbformat": 4,
 "nbformat_minor": 2
}
